{
 "cells": [
  {
   "cell_type": "markdown",
   "id": "fa5dc890",
   "metadata": {},
   "source": [
    "# Model Class"
   ]
  },
  {
   "cell_type": "code",
   "execution_count": 2,
   "id": "ed09836a",
   "metadata": {},
   "outputs": [],
   "source": [
    "# Date: 3/17/2022\n",
    "import numpy as np"
   ]
  },
  {
   "cell_type": "code",
   "execution_count": 7,
   "id": "f8107beb",
   "metadata": {},
   "outputs": [],
   "source": [
    "class Model:\n",
    "    def __init__(self, totalAllocation, numberOfInvestors, numberOfCategories, skillDistribution, effortFunction, categoryPreferences, utilityFunction):\n",
    "        self.totalAllocation = totalAllocation\n",
    "        self.numberOfInvestors = numberOfInvestors\n",
    "        self.numberOfCategories = numberOfCategories\n",
    "        self.distributionToNp = {\n",
    "            'uniform': lambda *args: np.random.random((args)) * 10,\n",
    "            'gaussian': lambda *args: np.random.normal(5, 1, (args)),\n",
    "            'exponential': lambda *args: np.random.exponential(5, (args)),\n",
    "        }\n",
    "        self.distributions = list(self.distributionToNp.keys())\n",
    "        self.distributionsStr = \", \".join(self.distributions[:-1]) + ', or ' + self.distributions[-1]\n",
    "        self.effortFunctionsToNp = {\n",
    "            'constant': lambda x: np.ones(x.shape),\n",
    "            'log': lambda x: np.log(x),\n",
    "            'linear': lambda x: x,\n",
    "            'exp': lambda x: np.exp(x),\n",
    "            'exponential': lambda x: np.exp(x),\n",
    "        }\n",
    "        self.effortFunctions = list(self.effortFunctionsToNp.keys())\n",
    "        self.effortFunctionsStr = \", \".join(self.effortFunctions[:-1]) + ', or ' + self.effortFunctions[-1]\n",
    "        self.utilityFunctionsToNp = {\n",
    "            'identity': lambda x: np.ones(x.shape),\n",
    "            'log': lambda x: np.log(x),\n",
    "        }\n",
    "        self.utilityFunctions = list(self.utilityFunctionsToNp.keys())\n",
    "        self.utilityFunctionsStr = \", \".join(self.utilityFunctions[:-1]) + ', or ' + self.utilityFunctions[-1]\n",
    "        \n",
    "        self.currSkillDistribution = skillDistribution.lower()\n",
    "        assert self.currSkillDistribution in self.distributions, f\"Distribution Error: Skill distribution '{skillDistribution}' not recognized, try {self.distributionsStr} instead.\"\n",
    "        self.currEffortFunction = effortFunction.lower()\n",
    "        assert self.currEffortFunction in self.effortFunctions, f\"Function Error: Effort function '{effortFunction}' not recognized, try {self.effortFunctionsStr} instead.\"\n",
    "        \n",
    "        self.currCategoryPreferences = categoryPreferences\n",
    "        assert self.currCategoryPreferences.shape == (self.numberOfCategories,), f\"Category Preferences Error: Category preferences '{categoryPreferences}' has dimension {categoryPreferences.shape} which does not match the number of categories ({self.numberOfCategories}).\"\n",
    "        self.currUtilityFunction = utilityFunction.lower()\n",
    "        assert self.currUtilityFunction in self.utilityFunctions, f\"Function Error: Utility function '{utilityFunction}' not recognized, try {self.utilityFunctionsStr} instead.\"\n",
    "        \n",
    "        self.currAllocation = None\n",
    "        self.currSkills = None\n",
    "    \n",
    "    @property\n",
    "    def currHelp(self):\n",
    "        if self.currAllocation is not None:\n",
    "            effortFunctionFunc = self.effortFunctionsToNp[self.currEffortFunction]\n",
    "            effortMatrix = effortFunctionFunc(self.currAllocation.reshape(self.currAllocation.shape[0],1))\n",
    "            return effortMatrix * self.currSkills\n",
    "        return None\n",
    "    \n",
    "    @property\n",
    "    def currTotalHelp(self):\n",
    "        if self.currHelp is not None:\n",
    "            return self.currHelp.sum(axis=0)\n",
    "        return None\n",
    "    \n",
    "    @property\n",
    "    def currTotalUtility(self):\n",
    "        if self.currTotalHelp is not None:\n",
    "            utilityFunctionFunc = self.utilityFunctionsToNp[self.currUtilityFunction]\n",
    "            return self.currCategoryPreferences @ utilityFunctionFunc(self.currTotalHelp)\n",
    "        return None\n",
    "    \n",
    "    def __call__(self):\n",
    "        self.currAllocation = self.makeAllocation()\n",
    "        self.currSkills = self.makeSkills()\n",
    "        return self.currAllocation, self.currSkills, self.currHelp, self.currTotalHelp, self.currTotalUtility\n",
    "    \n",
    "    def __repr__(self):\n",
    "        return f\"Model({self.totalAllocation}, {self.numberOfInvestors}, {self.numberOfCategories}, {self.currSkillDistribution}, {self.currEffortFunction}, {self.currCategoryPreferences}, {self.currUtilityFunction})\"\n",
    "    \n",
    "    def __str__(self):\n",
    "        return f\"Model({self.totalAllocation=}, {self.numberOfInvestors=}, {self.numberOfCategories=}, {self.currSkillDistribution=}, {self.currEffortFunction=}, {self.currCategoryPreferences=}, {self.currUtilityFunction=}, {self.currHelp=}, {self.currTotalHelp=}, {self.currTotalUtility=})\"\n",
    "    \n",
    "    def makeAllocation(self):\n",
    "        arr = np.random.random(self.numberOfInvestors)\n",
    "        arr /= arr.sum()\n",
    "        return arr * self.totalAllocation\n",
    "    \n",
    "    def makeSkills(self):\n",
    "        skillDistributionFunc = self.distributionToNp[self.currSkillDistribution]\n",
    "        skillMatrix = skillDistributionFunc(self.numberOfInvestors, self.numberOfCategories)\n",
    "        return skillMatrix"
   ]
  },
  {
   "cell_type": "code",
   "execution_count": 8,
   "id": "7421bf2d",
   "metadata": {},
   "outputs": [],
   "source": [
    "# Allocation, Skills, Help, TotalHelp, Total Utility\n",
    "m1 = Model(\n",
    "    totalAllocation = 1000,\n",
    "    numberOfInvestors = 10,\n",
    "    numberOfCategories = 5,\n",
    "    skillDistribution = 'Exponential',\n",
    "    effortFunction = 'log',\n",
    "    categoryPreferences = np.arange(1,6)[::-1],\n",
    "    utilityFunction = 'log'\n",
    ")"
   ]
  },
  {
   "cell_type": "code",
   "execution_count": 11,
   "id": "f9104214",
   "metadata": {},
   "outputs": [
    {
     "data": {
      "text/plain": [
       "Model(1000, 10, 5, exponential, log, [5 4 3 2 1], log)"
      ]
     },
     "execution_count": 11,
     "metadata": {},
     "output_type": "execute_result"
    }
   ],
   "source": [
    "m1"
   ]
  },
  {
   "cell_type": "code",
   "execution_count": 12,
   "id": "73763507",
   "metadata": {},
   "outputs": [],
   "source": [
    "ca, cs, ch, th, tu = m1()"
   ]
  },
  {
   "cell_type": "code",
   "execution_count": 9,
   "id": "7cb4bde9",
   "metadata": {},
   "outputs": [
    {
     "data": {
      "text/plain": [
       "81.99767707445486"
      ]
     },
     "execution_count": 9,
     "metadata": {},
     "output_type": "execute_result"
    }
   ],
   "source": [
    "tu"
   ]
  },
  {
   "cell_type": "code",
   "execution_count": null,
   "id": "97423840",
   "metadata": {},
   "outputs": [],
   "source": []
  },
  {
   "cell_type": "code",
   "execution_count": null,
   "id": "a6e49310",
   "metadata": {},
   "outputs": [],
   "source": []
  },
  {
   "cell_type": "code",
   "execution_count": null,
   "id": "f29f85df",
   "metadata": {},
   "outputs": [],
   "source": []
  },
  {
   "cell_type": "markdown",
   "id": "0c502168",
   "metadata": {},
   "source": [
    "# Notes\n",
    "\n",
    "$A$ = \"Total Allocation\" ($1000$ shares)\n",
    "\n",
    "We have vector $a$, where $a_i$ sum to $A$ -- dimension of $a$ is number of investors ($N$)\n",
    "\n",
    "$N$ = \"Total Investors\" ($10$)\n",
    "\n",
    "For an investor $v_i$ (1 <= i <= N), we have the following...\n",
    "\n",
    "there are $k$ categories of skill, and investor $v_i$ has a single number conveying his skill in each category\n",
    "\n",
    "Skill $s_{i,k}$ is generated from a chosen distribution (say, gaussian or exponential or uniform)\n",
    "\n",
    "Help $e(s_{i,k}, a)$ is a function of $a$ for each investor/category pair (explictly, $e(s_{i,k}, a) = s_{i,k} * a$ in the linear case; the log case is $e(s_{i,k}, a) = s_{i,k} * log(a)$; the exponential case is $e(s_{i,k}, a) = s_{i,k} * \\exp(a)$; constant case is $e(s_{i,k}, a) = s_{i,k}  * c$). Help is a vector.\n",
    "\n",
    "We will sum up "
   ]
  },
  {
   "cell_type": "code",
   "execution_count": null,
   "id": "9781ac4e",
   "metadata": {},
   "outputs": [],
   "source": []
  },
  {
   "cell_type": "code",
   "execution_count": null,
   "id": "2641a16e",
   "metadata": {},
   "outputs": [],
   "source": []
  },
  {
   "cell_type": "code",
   "execution_count": null,
   "id": "cea9486c",
   "metadata": {},
   "outputs": [],
   "source": []
  },
  {
   "cell_type": "code",
   "execution_count": null,
   "id": "5d92a3b7",
   "metadata": {},
   "outputs": [],
   "source": []
  }
 ],
 "metadata": {
  "kernelspec": {
   "display_name": "Python 3 (ipykernel)",
   "language": "python",
   "name": "python3"
  },
  "language_info": {
   "codemirror_mode": {
    "name": "ipython",
    "version": 3
   },
   "file_extension": ".py",
   "mimetype": "text/x-python",
   "name": "python",
   "nbconvert_exporter": "python",
   "pygments_lexer": "ipython3",
   "version": "3.9.10"
  }
 },
 "nbformat": 4,
 "nbformat_minor": 5
}
